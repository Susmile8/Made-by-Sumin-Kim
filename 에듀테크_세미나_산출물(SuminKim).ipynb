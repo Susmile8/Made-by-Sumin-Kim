{
  "nbformat": 4,
  "nbformat_minor": 0,
  "metadata": {
    "colab": {
      "provenance": []
    },
    "kernelspec": {
      "name": "python3",
      "display_name": "Python 3"
    },
    "language_info": {
      "name": "python"
    }
  },
  "cells": [
    {
      "cell_type": "markdown",
      "metadata": {
        "id": "kPSKCHuXNSs1"
      },
      "source": [
        "### 예시(2022학년도 대학수학능력시험 9월 모의평가)\n",
        "<img src='https://drive.google.com/uc?id=1YWDdIVGwCQ5oTjkF-wxOGbwDGuijFMQK'\n",
        "width=\"450\" height=\"500\" /><br>\n"
      ]
    },
    {
      "cell_type": "markdown",
      "metadata": {
        "id": "SjSjMSrBePgA"
      },
      "source": [
        "**Process-based 1. 점의 좌표**"
      ]
    },
    {
      "cell_type": "code",
      "execution_count": null,
      "metadata": {
        "colab": {
          "background_save": true,
          "base_uri": "https://localhost:8080/",
          "height": 182
        },
        "id": "RApnyvX9WX_G",
        "outputId": "f4710cc8-34a1-4058-bacc-167b056efa21"
      },
      "outputs": [
        {
          "data": {
            "text/latex": "$\\displaystyle \\text{Step 1: 점 A와 B의 중점이 점 M일 때, 점 M의 좌표는?}$",
            "text/plain": [
              "<IPython.core.display.Math object>"
            ]
          },
          "metadata": {},
          "output_type": "display_data"
        },
        {
          "data": {
            "text/latex": "$\\displaystyle \\text{Hint: } y = a^x \\text{ 와 } y = \\log_a (x) \\text{는 } y = x, y = -x + k \\text{ (단, } k \\in \\mathbb{R})\\text{에 대해 대칭입니다.}$",
            "text/plain": [
              "<IPython.core.display.Math object>"
            ]
          },
          "metadata": {},
          "output_type": "display_data"
        },
        {
          "data": {
            "text/latex": "$\\displaystyle \\text{또한 } y = a^{x - 1} \\text{ 와 } y = \\log_a (x - 1) \\text{는 } y = x - 1 \\text{에 대해 대칭입니다.}$",
            "text/plain": [
              "<IPython.core.display.Math object>"
            ]
          },
          "metadata": {},
          "output_type": "display_data"
        },
        {
          "data": {
            "text/latex": "$\\displaystyle \\text{Step 1: 점 A와 B의 중점이 점 M일 때, 점 M의 좌표는?}$",
            "text/plain": [
              "<IPython.core.display.Math object>"
            ]
          },
          "metadata": {},
          "output_type": "display_data"
        },
        {
          "data": {
            "text/latex": "$\\displaystyle \\text{Hint: } y = a^x \\text{ 와 } y = \\log_a (x) \\text{는 } y = x, y = -x + k \\text{ (단, } k \\in \\mathbb{R})\\text{에 대해 대칭입니다.}$",
            "text/plain": [
              "<IPython.core.display.Math object>"
            ]
          },
          "metadata": {},
          "output_type": "display_data"
        },
        {
          "data": {
            "text/latex": "$\\displaystyle \\text{또한 } y = a^{x - 1} \\text{ 와 } y = \\log_a (x - 1) \\text{는 } y = x - 1 \\text{에 대해 대칭입니다.}$",
            "text/plain": [
              "<IPython.core.display.Math object>"
            ]
          },
          "metadata": {},
          "output_type": "display_data"
        },
        {
          "data": {
            "text/latex": "$\\displaystyle \\text{Step 1: 점 A와 B의 중점이 점 M일 때, 점 M의 좌표는?}$",
            "text/plain": [
              "<IPython.core.display.Math object>"
            ]
          },
          "metadata": {},
          "output_type": "display_data"
        }
      ],
      "source": [
        "from IPython.display import display, Latex, Math\n",
        "\n",
        "def step1():\n",
        "    while True:\n",
        "        display(Math(r\"\\text{Step 1: 점 A와 B의 중점이 점 M일 때, 점 M의 좌표는?}\"))\n",
        "        answer = input(\"(예시: (0,1/2)): \").replace(\" \", \"\")\n",
        "        if answer == \"(5/2,3/2)\":\n",
        "            print(\"Correct! Step 2\\n\")\n",
        "            step2()\n",
        "            break\n",
        "        else:\n",
        "            display(Math(r\"\\text{Hint: } y = a^x \\text{ 와 } y = \\log_a (x) \\text{는 } y = x, y = -x + k \\text{ (단, } k \\in \\mathbb{R})\\text{에 대해 대칭입니다.}\"))\n",
        "            display(Math(r\"\\text{또한 } y = a^{x - 1} \\text{ 와 } y = \\log_a (x - 1) \\text{는 } y = x - 1 \\text{에 대해 대칭입니다.}\"))\n",
        "\n",
        "def step2():\n",
        "    display(Math(r\"\\text{Step 2: 점 B의 좌표는?}\"))\n",
        "    while True:\n",
        "        answer = input(\"(예시: (0,1/2)): \").replace(\" \", \"\")\n",
        "        if answer == \"(7/2,1/2)\":\n",
        "            print(\"Correct! Step 3\\n\")\n",
        "            step3()\n",
        "            break\n",
        "        else:\n",
        "            display(Math(r\"\\text{Hint: 점 M과 점 B의 거리는 } \\sqrt{2} \\text{입니다.}\"))\n",
        "\n",
        "def step3():\n",
        "    display(Math(r\"\\text{Step 3: 점 C의 좌표는?}\"))\n",
        "    answer = input(\"(예시: (0,1/2)): \").replace(\" \", \"\")\n",
        "    if answer == \"(0,4/25)\":\n",
        "        display(Math(r\"\\text{Congratulations! Enjoy the process.}\"))\n",
        "    else:\n",
        "        display(Math(r\"\\text{Hint: }\\text{점 C의 좌표는 } (0, \\frac{1}{a}) \\text{ 입니다.}\"))\n",
        "        display(Math(r\"\"))\n",
        "\n",
        "step1()"
      ]
    },
    {
      "cell_type": "markdown",
      "metadata": {
        "id": "uGv5bF4vWZyI"
      },
      "source": [
        "**Process-based 2. 점과 직선 사이의 거리**\n",
        "\n",
        "\n"
      ]
    },
    {
      "cell_type": "code",
      "execution_count": null,
      "metadata": {
        "colab": {
          "base_uri": "https://localhost:8080/",
          "height": 156
        },
        "id": "WBF24aCPebuP",
        "outputId": "b1a1321d-dfde-40d7-c5ea-4da20cc09beb"
      },
      "outputs": [
        {
          "data": {
            "text/latex": "$\\displaystyle \\text{점 } (x_0, y_0) \\text{와 직선 } ax + by + c = 0 \\text{ 사이의 거리: }$",
            "text/plain": [
              "<IPython.core.display.Math object>"
            ]
          },
          "metadata": {},
          "output_type": "display_data"
        },
        {
          "data": {
            "text/latex": "$\\displaystyle d = \\frac{|ax_0 + by_0 + c|}{\\sqrt{a^2 + b^2}}$",
            "text/plain": [
              "<IPython.core.display.Math object>"
            ]
          },
          "metadata": {},
          "output_type": "display_data"
        },
        {
          "data": {
            "text/latex": "$\\displaystyle \\text{점 C} \\text{와 직선 AB} \\text{ 사이의 거리가 } \\frac{k}{25\\sqrt{2}} \\text{일 때, } k \\text{의 값은?}$",
            "text/plain": [
              "<IPython.core.display.Math object>"
            ]
          },
          "metadata": {},
          "output_type": "display_data"
        },
        {
          "name": "stdout",
          "output_type": "stream",
          "text": [
            "(예시: 1): 96\n"
          ]
        },
        {
          "data": {
            "text/latex": "$\\displaystyle \\text{Congratulations! Enjoy the process.}$",
            "text/plain": [
              "<IPython.core.display.Math object>"
            ]
          },
          "metadata": {},
          "output_type": "display_data"
        }
      ],
      "source": [
        "\n",
        "def step1():\n",
        "    display(Math(r\"\\text{점 } (x_0, y_0) \\text{와 직선 } ax + by + c = 0 \\text{ 사이의 거리: }\"))\n",
        "    display(Math(r\"d = \\frac{|ax_0 + by_0 + c|}{\\sqrt{a^2 + b^2}}\"))\n",
        "    display(Math(r\"\\text{점 C} \\text{와 직선 AB} \\text{ 사이의 거리가 } \\frac{k}{25\\sqrt{2}} \\text{일 때, } k \\text{의 값은?}\"))\n",
        "    while True:\n",
        "        try:\n",
        "            answer = float(input(\"(예시: 10): \").replace(\" \", \"\"))\n",
        "            if answer == 96:\n",
        "                display(Math(r\"\\text{Congratulations! Enjoy the process.}\"))\n",
        "                break\n",
        "            else:\n",
        "                display(Math(r\"\\text{Hint :점 } (0, \\frac{1}{a}) \\text{와 직선 } x + y - 4 = 0 \\text{ 사이의 거리 }\"))\n",
        "                display(Math(r\"\\text{Try again~}\"))\n",
        "        except ValueError:\n",
        "            display(Math(r\"\\text{숫자 형식으로 입력해주세요.}\"))\n",
        "step1()"
      ]
    },
    {
      "cell_type": "markdown",
      "metadata": {
        "id": "ewjeH4z4uYt7"
      },
      "source": [
        "**Process-based 3. 삼각형의 넓이**"
      ]
    },
    {
      "cell_type": "code",
      "execution_count": null,
      "metadata": {
        "colab": {
          "base_uri": "https://localhost:8080/",
          "height": 111
        },
        "id": "zFY1DhC4u6A4",
        "outputId": "121d41c4-db6e-4b3c-dfeb-9e0107ab41c6"
      },
      "outputs": [
        {
          "data": {
            "text/latex": "$\\displaystyle \\text{삼각형의 넓이 공식: } S = \\frac{1}{2} \\cdot \\text{밑변} \\cdot \\text{높이}$",
            "text/plain": [
              "<IPython.core.display.Math object>"
            ]
          },
          "metadata": {},
          "output_type": "display_data"
        },
        {
          "data": {
            "text/latex": "$\\displaystyle \\text{삼각형 } ABC \\text{의 넓이를 } S \\text{라 할 때, } 50 \\times S \\text{의 값은?}$",
            "text/plain": [
              "<IPython.core.display.Math object>"
            ]
          },
          "metadata": {},
          "output_type": "display_data"
        },
        {
          "name": "stdout",
          "output_type": "stream",
          "text": [
            "(예시: 1): 192\n"
          ]
        },
        {
          "data": {
            "text/latex": "$\\displaystyle \\text{Congratulations! Complete.}$",
            "text/plain": [
              "<IPython.core.display.Math object>"
            ]
          },
          "metadata": {},
          "output_type": "display_data"
        }
      ],
      "source": [
        "def step1():\n",
        "    # 삼각형 넓이 공식 출력\n",
        "    display(Math(r\"\\text{삼각형의 넓이 공식: } S = \\frac{1}{2} \\cdot \\text{밑변} \\cdot \\text{높이}\"))\n",
        "    display(Math(r\"\\text{삼각형 } ABC \\text{의 넓이를 } S \\text{라 할 때, } 50 \\times S \\text{의 값은?}\"))\n",
        "    while True:\n",
        "        try:\n",
        "            answer = float(input(\"(예시: 100): \").replace(\" \", \"\"))\n",
        "            if answer == 192:\n",
        "                display(Math(r\"\\text{Congratulations! Complete.}\"))\n",
        "                break\n",
        "            else:\n",
        "                display(Math(r\"\\text{Hint: 밑변은 } 2\\sqrt{2}\"))\n",
        "                display(Math(r\"\\text{Try again~}\"))\n",
        "        except ValueError:\n",
        "            display(Math(r\"\\text{숫자 형식으로 입력해주세요.}\"))\n",
        "step1()"
      ]
    }
  ]
}